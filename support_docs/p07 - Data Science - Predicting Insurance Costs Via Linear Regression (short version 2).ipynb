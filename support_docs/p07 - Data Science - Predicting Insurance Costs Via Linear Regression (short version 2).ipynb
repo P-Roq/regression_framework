{
 "cells": [
  {
   "cell_type": "markdown",
   "metadata": {},
   "source": [
    "# Data Science Project - Predicting Insurance Via Linear Regression\n",
    "\n",
    "## Introduction\n",
    "---\n",
    "From a data set that compiles information on peoples' medical history we implement a linear regression model that attempts to predict the insurance costs of patients.\n",
    "\n",
    "\n",
    "**Data Set Description ([source](https://www.kaggle.com/datasets/mirichoi0218/insurance?resource=download))**\n",
    "\n",
    "- `age`: age of primary beneficiary\n",
    "- `sex`: insurance contractor gender, female, male\n",
    "- `bmi`: Body mass index, providing an understanding of body, weights that are relatively high or low relative to height,\n",
    "- `objective` index of body weight (kg / m ^ 2) using the ratio of height to weight, ideally 18.5 to 24.9\n",
    "- `children`: Number of children covered by health insurance / Number of dependents\n",
    "- `smoker`: Smoking\n",
    "- `region`: the beneficiary's residential area in the US, northeast, southeast, southwest, northwest.\n",
    "- `charges`: Individual medical costs billed by health insurance\n"
   ]
  },
  {
   "cell_type": "code",
   "execution_count": 1,
   "metadata": {},
   "outputs": [],
   "source": [
    "import numpy as np\n",
    "import pandas as pd\n",
    "import re\n",
    "import matplotlib.pyplot as plt\n",
    "import seaborn as sns\n",
    "%matplotlib inline\n",
    "\n",
    "from sklearn.linear_model import LinearRegression as lr\n",
    "from sklearn.metrics import mean_squared_error as mse\n",
    "from sklearn.metrics import r2_score as r2 \n",
    "from sklearn.model_selection import train_test_split as split\n",
    "import statsmodels.api as sm"
   ]
  },
  {
   "cell_type": "markdown",
   "metadata": {},
   "source": [
    "## Exploring The Data Set And Data Transformation"
   ]
  },
  {
   "cell_type": "code",
   "execution_count": 2,
   "metadata": {},
   "outputs": [
    {
     "name": "stdout",
     "output_type": "stream",
     "text": [
      "<class 'pandas.core.frame.DataFrame'>\n",
      "RangeIndex: 1338 entries, 0 to 1337\n",
      "Data columns (total 7 columns):\n",
      " #   Column    Non-Null Count  Dtype  \n",
      "---  ------    --------------  -----  \n",
      " 0   age       1338 non-null   int64  \n",
      " 1   sex       1338 non-null   object \n",
      " 2   bmi       1338 non-null   float64\n",
      " 3   children  1338 non-null   int64  \n",
      " 4   smoker    1338 non-null   object \n",
      " 5   region    1338 non-null   object \n",
      " 6   charges   1338 non-null   float64\n",
      "dtypes: float64(2), int64(2), object(3)\n",
      "memory usage: 73.3+ KB\n"
     ]
    }
   ],
   "source": [
    "ins = pd.read_csv('insurance.csv')\n",
    "\n",
    "ins.info()"
   ]
  },
  {
   "cell_type": "code",
   "execution_count": 3,
   "metadata": {},
   "outputs": [
    {
     "data": {
      "text/html": [
       "<div>\n",
       "<style scoped>\n",
       "    .dataframe tbody tr th:only-of-type {\n",
       "        vertical-align: middle;\n",
       "    }\n",
       "\n",
       "    .dataframe tbody tr th {\n",
       "        vertical-align: top;\n",
       "    }\n",
       "\n",
       "    .dataframe thead th {\n",
       "        text-align: right;\n",
       "    }\n",
       "</style>\n",
       "<table border=\"1\" class=\"dataframe\">\n",
       "  <thead>\n",
       "    <tr style=\"text-align: right;\">\n",
       "      <th></th>\n",
       "      <th>age</th>\n",
       "      <th>sex</th>\n",
       "      <th>bmi</th>\n",
       "      <th>children</th>\n",
       "      <th>smoker</th>\n",
       "      <th>region</th>\n",
       "      <th>charges</th>\n",
       "    </tr>\n",
       "  </thead>\n",
       "  <tbody>\n",
       "    <tr>\n",
       "      <th>0</th>\n",
       "      <td>19</td>\n",
       "      <td>female</td>\n",
       "      <td>27.900</td>\n",
       "      <td>0</td>\n",
       "      <td>yes</td>\n",
       "      <td>southwest</td>\n",
       "      <td>16884.92400</td>\n",
       "    </tr>\n",
       "    <tr>\n",
       "      <th>1</th>\n",
       "      <td>18</td>\n",
       "      <td>male</td>\n",
       "      <td>33.770</td>\n",
       "      <td>1</td>\n",
       "      <td>no</td>\n",
       "      <td>southeast</td>\n",
       "      <td>1725.55230</td>\n",
       "    </tr>\n",
       "    <tr>\n",
       "      <th>2</th>\n",
       "      <td>28</td>\n",
       "      <td>male</td>\n",
       "      <td>33.000</td>\n",
       "      <td>3</td>\n",
       "      <td>no</td>\n",
       "      <td>southeast</td>\n",
       "      <td>4449.46200</td>\n",
       "    </tr>\n",
       "    <tr>\n",
       "      <th>3</th>\n",
       "      <td>33</td>\n",
       "      <td>male</td>\n",
       "      <td>22.705</td>\n",
       "      <td>0</td>\n",
       "      <td>no</td>\n",
       "      <td>northwest</td>\n",
       "      <td>21984.47061</td>\n",
       "    </tr>\n",
       "    <tr>\n",
       "      <th>4</th>\n",
       "      <td>32</td>\n",
       "      <td>male</td>\n",
       "      <td>28.880</td>\n",
       "      <td>0</td>\n",
       "      <td>no</td>\n",
       "      <td>northwest</td>\n",
       "      <td>3866.85520</td>\n",
       "    </tr>\n",
       "  </tbody>\n",
       "</table>\n",
       "</div>"
      ],
      "text/plain": [
       "   age     sex     bmi  children smoker     region      charges\n",
       "0   19  female  27.900         0    yes  southwest  16884.92400\n",
       "1   18    male  33.770         1     no  southeast   1725.55230\n",
       "2   28    male  33.000         3     no  southeast   4449.46200\n",
       "3   33    male  22.705         0     no  northwest  21984.47061\n",
       "4   32    male  28.880         0     no  northwest   3866.85520"
      ]
     },
     "execution_count": 3,
     "metadata": {},
     "output_type": "execute_result"
    }
   ],
   "source": [
    "ins.head()"
   ]
  },
  {
   "cell_type": "markdown",
   "metadata": {},
   "source": [
    "Convert `sex` and `smoker` into dummy variables, and `region` into a categorical variable:\n",
    "\n",
    "For `sex`:\n",
    "- `0` if `female`\n",
    "- `1` if male\n",
    "\n",
    "For `smoker`:\n",
    "- `0` if no\n",
    "- `1` if yes"
   ]
  },
  {
   "cell_type": "code",
   "execution_count": 4,
   "metadata": {},
   "outputs": [],
   "source": [
    "ins['sex'] = ins['sex'].apply(lambda x: 0 if x=='female' else 1)\n",
    "\n",
    "ins['smoker'] = ins['smoker'].apply(lambda x: 0 if x=='no' else 1)\n",
    "\n",
    "ins['region'] = pd.Categorical(ins['region'])"
   ]
  },
  {
   "cell_type": "code",
   "execution_count": 5,
   "metadata": {},
   "outputs": [
    {
     "name": "stdout",
     "output_type": "stream",
     "text": [
      "<class 'pandas.core.frame.DataFrame'>\n",
      "RangeIndex: 1338 entries, 0 to 1337\n",
      "Data columns (total 7 columns):\n",
      " #   Column    Non-Null Count  Dtype   \n",
      "---  ------    --------------  -----   \n",
      " 0   age       1338 non-null   int64   \n",
      " 1   sex       1338 non-null   int64   \n",
      " 2   bmi       1338 non-null   float64 \n",
      " 3   children  1338 non-null   int64   \n",
      " 4   smoker    1338 non-null   int64   \n",
      " 5   region    1338 non-null   category\n",
      " 6   charges   1338 non-null   float64 \n",
      "dtypes: category(1), float64(2), int64(4)\n",
      "memory usage: 64.3 KB\n"
     ]
    }
   ],
   "source": [
    "ins.info()"
   ]
  },
  {
   "cell_type": "markdown",
   "metadata": {},
   "source": [
    "## Histogram analysis of the features"
   ]
  },
  {
   "cell_type": "code",
   "execution_count": 21,
   "metadata": {},
   "outputs": [
    {
     "data": {
      "image/png": "[encoded data removed]",
      "text/plain": [
       "<Figure size 1080x720 with 9 Axes>"
      ]
     },
     "metadata": {
      "needs_background": "light"
     },
     "output_type": "display_data"
    }
   ],
   "source": [
    "fig, ax = plt.subplots(3, 3, figsize=(15, 10))\n",
    "\n",
    "x_labels = [\n",
    "    'years',\n",
    "    '0 if \"female\", 1 if \"male\"',\n",
    "    'index value',\n",
    "    'nr. of children',\n",
    "    '0 if no, 1 if yes',\n",
    "    '',\n",
    "    '$'\n",
    "    ]\n",
    "\n",
    "plt.suptitle(\n",
    "    'Histograms',\n",
    "    size=20,\n",
    "    y=1\n",
    "    )\n",
    "\n",
    "for i in range(0, 8+1):\n",
    "    if i < 3:\n",
    "        ax_ = ax[0, i]\n",
    "    if 3 <= i < 6:\n",
    "        ax_ = ax[1, i-3]\n",
    "    if i >= 6:\n",
    "        ax_ = ax[2, i-6]\n",
    "        if i > 6:\n",
    "            ax_.set_axis_off()\n",
    "            \n",
    "    if i < 7:\n",
    "        col = ins.columns[i]\n",
    "        ax_.hist(ins[col])\n",
    "        ax_.set_title(col)\n",
    "        ax_.set_xlabel(x_labels[i])\n",
    "        ax_.grid(axis='y')\n",
    "    \n",
    "plt.tight_layout()\n",
    "plt.show()"
   ]
  },
  {
   "cell_type": "markdown",
   "metadata": {},
   "source": [
    "- `age`: ages are relatively evenly distributed but the most represented age interval is young adults (over 200).\n",
    "\n",
    "\n",
    "- `sex`: gender is relatively even.\n",
    "\n",
    "\n",
    "- `bmi`: the distribution of this variable resembles a normal distribution, slighly positive skew. \n",
    "\n",
    "\n",
    "- `children`: the number of children has an expected decreasing behavior, where the majority of patients doesn't have children while those who have 5 children a very small portion. Since the smallest values - 4 and 5 children, have such a small representation, we convert this variable into a binary variable of the type:\n",
    "    - `0` if has no children.\n",
    "    - `1` if has one child or more.\n",
    "\n",
    "\n",
    "- `smoker`: the large majority of patients does not smoke but there are at least over 200 patients that do smoke.\n",
    "\n",
    "\n",
    "- `region`: the geographical location of the patients is roughly evenly distributed across the four regions, with a slight preponderance of southeast.\n",
    "\n",
    "\n",
    "- `charges`: the target variable has an exponential decay. Because of this property, it might be a good idea to log transform it."
   ]
  },
  {
   "cell_type": "code",
   "execution_count": 22,
   "metadata": {},
   "outputs": [],
   "source": [
    "ins['log_charges'] = np.log(ins.charges)\n",
    "\n",
    "ins['children_d'] = ins.children.apply(lambda x: 0 if x == 0 else 1)\n",
    "\n",
    "# ins = ins.drop(columns=['children', 'charges'])\n",
    "ins = ins.drop(columns=['children'])"
   ]
  },
  {
   "cell_type": "code",
   "execution_count": 23,
   "metadata": {},
   "outputs": [
    {
     "data": {
      "image/png": "[encoded data removed]",
      "text/plain": [
       "<Figure size 432x288 with 1 Axes>"
      ]
     },
     "metadata": {
      "needs_background": "light"
     },
     "output_type": "display_data"
    }
   ],
   "source": [
    "sns.histplot(ins.log_charges)\n",
    "\n",
    "plt.title('Histogram - log_charges')\n",
    "\n",
    "plt.show()"
   ]
  },
  {
   "cell_type": "markdown",
   "metadata": {},
   "source": [
    "### Correlations between the independent variables and the target."
   ]
  },
  {
   "cell_type": "code",
   "execution_count": 24,
   "metadata": {},
   "outputs": [
    {
     "data": {
      "text/plain": [
       "charges       89.0\n",
       "smoker        67.0\n",
       "age           53.0\n",
       "children_d    15.0\n",
       "bmi           13.0\n",
       "sex            1.0\n",
       "Name: log_charges, dtype: float64"
      ]
     },
     "execution_count": 24,
     "metadata": {},
     "output_type": "execute_result"
    }
   ],
   "source": [
    "ins.corr()['log_charges'].sort_values(ascending=False).round(2)[1:]*100"
   ]
  },
  {
   "cell_type": "markdown",
   "metadata": {},
   "source": [
    "Has we can see, being a smoker seems to be highly positively correlated with `log_charges` (67%). The correlation between `log_charges` and `age` is also very strong (53%), while the analogous values for `children_d` and `bmi` are also relevant (15 and 13%, respectively). On the other hand, `sex` shows a negligible correlation with the `log_charges`. "
   ]
  },
  {
   "cell_type": "markdown",
   "metadata": {},
   "source": [
    "#### Correlation Heat Map: visually exploring correlations between independent variables:"
   ]
  },
  {
   "cell_type": "code",
   "execution_count": 144,
   "metadata": {},
   "outputs": [
    {
     "data": {
      "image/png": "[encoded data removed]",
      "text/plain": [
       "<Figure size 720x576 with 2 Axes>"
      ]
     },
     "metadata": {
      "needs_background": "light"
     },
     "output_type": "display_data"
    }
   ],
   "source": [
    "feats = [i for i in ins if i != 'log_charges']\n",
    "\n",
    "corr = ins[feats].corr(method='pearson')\n",
    "\n",
    "# Draw a heatmap with the numeric values in each cell.\n",
    "f, ax = plt.subplots(figsize=(10, 8))\n",
    "\n",
    "# Getting the Upper Triangle of the co-relation matrix.\n",
    "matrix = np.triu(corr)\n",
    "\n",
    "sns.heatmap(corr,\n",
    "            annot=True,\n",
    "            linewidths=.5,\n",
    "            mask=matrix,\n",
    "            ax=ax)\n",
    "\n",
    "plt.show()"
   ]
  },
  {
   "cell_type": "markdown",
   "metadata": {},
   "source": [
    "As we can see, there are no substantial correlations, positive or negative, between independent variables, i.e. there is no evidence of a multicollinearity problem."
   ]
  },
  {
   "cell_type": "markdown",
   "metadata": {},
   "source": [
    "### Scatter plot analysis"
   ]
  },
  {
   "cell_type": "code",
   "execution_count": 145,
   "metadata": {},
   "outputs": [
    {
     "data": {
      "image/png": "[encoded data removed]",
      "text/plain": [
       "<Figure size 1080x720 with 6 Axes>"
      ]
     },
     "metadata": {
      "needs_background": "light"
     },
     "output_type": "display_data"
    }
   ],
   "source": [
    "feats_labels = [\n",
    "    'years',\n",
    "    '0 if \"female\", 1 if \"male\"',\n",
    "    'index value',\n",
    "    '0 if no, 1 if yes',\n",
    "    '',\n",
    "    '0 if \"no children\", 1 if \"children\"',\n",
    "    ]\n",
    "\n",
    "fig, ax = plt.subplots(2, 3, figsize=(15, 10))\n",
    "\n",
    "plt.suptitle(\n",
    "    'Scatter Plots - Independent Variables Vs `Charges`',\n",
    "    size=20,\n",
    "    y=1\n",
    "    )\n",
    "\n",
    "for i in range(0, 5+1):\n",
    "    if i < 3:\n",
    "        ax_ = ax[0, i]\n",
    "    else:\n",
    "        ax_ = ax[1, i-3]\n",
    "    \n",
    "    col = feats[i]\n",
    "    ax_.scatter(ins[col], ins['log_charges'])\n",
    "    ax_.set_title(col)\n",
    "    ax_.set_xlabel(feats_labels[i])\n",
    "    ax_.set_ylabel('$')\n",
    "    \n",
    "plt.tight_layout()\n",
    "plt.show()"
   ]
  },
  {
   "cell_type": "markdown",
   "metadata": {},
   "source": [
    "#### Analysis of scatter plots.\n",
    "\n",
    "- `age`: seems to have three different positive correlations patterns, which may indicate that within the pool of patients there are three different profiles that we can try to separate using some criterion. \n",
    "\n",
    "\n",
    "- `sex`: this variable does not show a great disparity between the dispersion of female and male observations, which reinforces the idea that gender and patient insurance expenses are not related hence We'll drop this variable from the analysis.\n",
    "\n",
    "\n",
    "- `bmi`: it is very difficult to discern a pattern of correlation between this variable and the target.  \n",
    "\n",
    "\n",
    "- `smoker`: the scatter plot for this predictor indicates that patients that are smokers, in general, pay more for insurance than non-smokers.\n",
    "\n",
    "\n",
    "- `region`: the dispersion of observations by region does not seem to reveal great disparities among them. We'll reserve this variable for a separate analysis with dummy encoding for each region.\n",
    "\n",
    "\n",
    "- `children_d`: There is number of patients without children that pays less than then patient with children with the smallest insurance expenditure; on the other hand the maximum value for parents and non parents alike is almost identical.  "
   ]
  },
  {
   "cell_type": "code",
   "execution_count": 25,
   "metadata": {},
   "outputs": [],
   "source": [
    "ins = ins.drop(columns=['sex'])"
   ]
  },
  {
   "cell_type": "markdown",
   "metadata": {},
   "source": [
    "#### Scaling `age` and `bmi`.\n",
    "\n",
    "Because we are not emphasizing the interpretation of the relation between the predictors and target, we opt to convert the non-binary variables into z-scores, i.e. the distance of the actual values from the average, measured in standard deviations."
   ]
  },
  {
   "cell_type": "code",
   "execution_count": 147,
   "metadata": {},
   "outputs": [],
   "source": [
    "# from sklearn.preprocessing import StandardScaler\n",
    "\n",
    "# scaler = StandardScaler()\n",
    "\n",
    "# scaled_df = pd.DataFrame(scaler.fit_transform(ins[['age', 'bmi']]), columns=['age', 'bmi'])\n",
    "\n",
    "# ins = ins.drop(columns=['age', 'bmi'])\n",
    "\n",
    "# ins = pd.concat([ins, scaled_df], axis=1)\n",
    "\n",
    "# ins.head()"
   ]
  },
  {
   "cell_type": "markdown",
   "metadata": {},
   "source": [
    "## Splitting Train And Test Data Sets And Building The First Model\n",
    "---\n",
    "The train set will have 80% of the original data whilst the test set will have the remaining 20%, setting a pseud-random state at 5. "
   ]
  },
  {
   "cell_type": "code",
   "execution_count": 26,
   "metadata": {},
   "outputs": [],
   "source": [
    "train, test = split(ins, random_state=5, test_size=0.2)"
   ]
  },
  {
   "cell_type": "markdown",
   "metadata": {},
   "source": [
    "### Feature selection.\n",
    "\n",
    "To start, we'll be using only a very short selection of predictors that showed a substantial correlation with the target: `smoker`, `age`; we also include `sex` just to see what is the magnitude value of the coefficient, even though we know that its correlation with the target variable is weak.\n",
    "\n",
    "Below we build a function - `reg_results()`, that takes as input: a train and a test data set; the features to be included in the model as predictors; and returns a dictionary containing the following:\n",
    "- A `statsmodels` OLS (ordinary least squared) object.\n",
    "- The summary statistics of the fitted regression.\n",
    "- The mean squared and root mean squared errors, associated to the test predictions."
   ]
  },
  {
   "cell_type": "code",
   "execution_count": 27,
   "metadata": {},
   "outputs": [
    {
     "name": "stdout",
     "output_type": "stream",
     "text": [
      "<class 'pandas.core.frame.DataFrame'>\n",
      "RangeIndex: 1338 entries, 0 to 1337\n",
      "Data columns (total 7 columns):\n",
      " #   Column       Non-Null Count  Dtype   \n",
      "---  ------       --------------  -----   \n",
      " 0   age          1338 non-null   int64   \n",
      " 1   bmi          1338 non-null   float64 \n",
      " 2   smoker       1338 non-null   int64   \n",
      " 3   region       1338 non-null   category\n",
      " 4   charges      1338 non-null   float64 \n",
      " 5   log_charges  1338 non-null   float64 \n",
      " 6   children_d   1338 non-null   int64   \n",
      "dtypes: category(1), float64(3), int64(3)\n",
      "memory usage: 64.3 KB\n"
     ]
    }
   ],
   "source": [
    "ins.info()"
   ]
  },
  {
   "cell_type": "code",
   "execution_count": 30,
   "metadata": {},
   "outputs": [],
   "source": [
    "def reg_results(feats, target, train, test):\n",
    "    \n",
    "    # Fit.\n",
    "    X_train= train[feats]\n",
    "    X_train_w_const = sm.add_constant(X_train, prepend=True)\n",
    "    y_train = train[target].values.reshape(-1, 1)\n",
    "\n",
    "    est = sm.OLS(y_train, X_train_w_const.values)\n",
    "    ols = est.fit()\n",
    "    \n",
    "    # Predict.\n",
    "    X_test = test[feats]\n",
    "    X_test_w_const = sm.add_constant(X_test, prepend=True)\n",
    "    y_test = test[target].values.reshape(-1, 1)\n",
    "\n",
    "    prediction = ols.predict(X_test_w_const.values)\n",
    "    \n",
    "    # Error.\n",
    "    mse_ = round(mse(y_test, prediction), 2)\n",
    "    rmse_ = round(np.sqrt(mse_), 2)\n",
    "\n",
    "    return {\n",
    "        'ols': est.fit(),\n",
    "        'summary': ols.summary2(),\n",
    "        'MSE': mse_,\n",
    "        'RMSE': rmse_\n",
    "        }"
   ]
  },
  {
   "cell_type": "code",
   "execution_count": 31,
   "metadata": {},
   "outputs": [],
   "source": [
    "def result_printer(results):\n",
    "    for key in results:\n",
    "        if key != 'ols':\n",
    "            print(f'{key} = {results[key]}')\n",
    "    return"
   ]
  },
  {
   "cell_type": "markdown",
   "metadata": {},
   "source": [
    "We start by using the train set to both train and predict the outcome in order to later compare it with the test set errors."
   ]
  },
  {
   "cell_type": "code",
   "execution_count": 32,
   "metadata": {},
   "outputs": [
    {
     "name": "stdout",
     "output_type": "stream",
     "text": [
      "summary =                   Results: Ordinary least squares\n",
      "===================================================================\n",
      "Model:              OLS              Adj. R-squared:     0.738     \n",
      "Dependent Variable: y                AIC:                21716.5536\n",
      "Date:               2023-04-12 14:56 BIC:                21736.4553\n",
      "No. Observations:   1070             Log-Likelihood:     -10854.   \n",
      "Df Model:           3                F-statistic:        1004.     \n",
      "Df Residuals:       1066             Prob (F-statistic): 5.17e-310 \n",
      "R-squared:          0.739            Scale:              3.8043e+07\n",
      "-------------------------------------------------------------------\n",
      "          Coef.     Std.Err.    t     P>|t|     [0.025     0.975]  \n",
      "-------------------------------------------------------------------\n",
      "const  -11541.3321 1060.3161 -10.8848 0.0000 -13621.8758 -9460.7884\n",
      "x1        260.0737   13.6533  19.0484 0.0000    233.2833   286.8642\n",
      "x2        321.3907   31.0383  10.3546 0.0000    260.4875   382.2939\n",
      "x3      23621.2286  467.6223  50.5135 0.0000  22703.6639 24538.7933\n",
      "-------------------------------------------------------------------\n",
      "Omnibus:              224.330       Durbin-Watson:          2.075  \n",
      "Prob(Omnibus):        0.000         Jarque-Bera (JB):       466.516\n",
      "Skew:                 1.187         Prob(JB):               0.000  \n",
      "Kurtosis:             5.198         Condition No.:          291    \n",
      "===================================================================\n",
      "\n",
      "MSE = 37901103.84\n",
      "RMSE = 6156.39\n"
     ]
    }
   ],
   "source": [
    "feats_1 = ['age', 'bmi', 'smoker']\n",
    "\n",
    "results_1 = reg_results(feats_1, 'charges', train, train)\n",
    "\n",
    "result_printer(results_1)"
   ]
  },
  {
   "cell_type": "code",
   "execution_count": 33,
   "metadata": {},
   "outputs": [
    {
     "name": "stdout",
     "output_type": "stream",
     "text": [
      "summary =                  Results: Ordinary least squares\n",
      "==================================================================\n",
      "Model:              OLS              Adj. R-squared:     0.728    \n",
      "Dependent Variable: y                AIC:                1439.2007\n",
      "Date:               2023-04-12 14:57 BIC:                1459.1024\n",
      "No. Observations:   1070             Log-Likelihood:     -715.60  \n",
      "Df Model:           3                F-statistic:        954.5    \n",
      "Df Residuals:       1066             Prob (F-statistic): 2.30e-301\n",
      "R-squared:          0.729            Scale:              0.22390  \n",
      "---------------------------------------------------------------------\n",
      "          Coef.     Std.Err.       t       P>|t|     [0.025    0.975]\n",
      "---------------------------------------------------------------------\n",
      "const     7.1125      0.0813    87.4378    0.0000    6.9529    7.2721\n",
      "x1        0.0345      0.0010    32.9077    0.0000    0.0324    0.0365\n",
      "x2        0.0109      0.0024     4.5915    0.0000    0.0063    0.0156\n",
      "x3        1.5215      0.0359    42.4111    0.0000    1.4511    1.5919\n",
      "------------------------------------------------------------------\n",
      "Omnibus:             294.450       Durbin-Watson:          2.029  \n",
      "Prob(Omnibus):       0.000         Jarque-Bera (JB):       881.444\n",
      "Skew:                1.368         Prob(JB):               0.000  \n",
      "Kurtosis:            6.505         Condition No.:          291    \n",
      "==================================================================\n",
      "\n",
      "MSE = 0.22\n",
      "RMSE = 0.47\n"
     ]
    }
   ],
   "source": [
    "feats_1 = ['age', 'bmi', 'smoker']\n",
    "\n",
    "results_1 = reg_results(feats_1, 'log_charges', train, train)\n",
    "\n",
    "result_printer(results_1)"
   ]
  },
  {
   "cell_type": "code",
   "execution_count": 157,
   "metadata": {},
   "outputs": [
    {
     "name": "stdout",
     "output_type": "stream",
     "text": [
      "summary =                  Results: Ordinary least squares\n",
      "==================================================================\n",
      "Model:              OLS              Adj. R-squared:     0.723    \n",
      "Dependent Variable: y                AIC:                1458.1556\n",
      "Date:               2023-04-11 17:14 BIC:                1473.0818\n",
      "No. Observations:   1070             Log-Likelihood:     -726.08  \n",
      "Df Model:           2                F-statistic:        1395.    \n",
      "Df Residuals:       1067             Prob (F-statistic): 1.86e-298\n",
      "R-squared:          0.723            Scale:              0.22811  \n",
      "---------------------------------------------------------------------\n",
      "         Coef.     Std.Err.       t        P>|t|     [0.025    0.975]\n",
      "---------------------------------------------------------------------\n",
      "const    7.4251      0.0449    165.2235    0.0000    7.3369    7.5132\n",
      "x1       0.0350      0.0010     33.3956    0.0000    0.0330    0.0371\n",
      "x2       1.5219      0.0362     42.0300    0.0000    1.4509    1.5930\n",
      "------------------------------------------------------------------\n",
      "Omnibus:             290.445       Durbin-Watson:          2.018  \n",
      "Prob(Omnibus):       0.000         Jarque-Bera (JB):       834.120\n",
      "Skew:                1.366         Prob(JB):               0.000  \n",
      "Kurtosis:            6.353         Condition No.:          133    \n",
      "==================================================================\n",
      "\n",
      "MSE = 0.23\n",
      "RMSE = 0.48\n"
     ]
    }
   ],
   "source": [
    "feats_2 = ['age', 'smoker']\n",
    "\n",
    "results_2 = reg_results(feats_2, train, train)\n",
    "\n",
    "result_printer(results_2)"
   ]
  },
  {
   "cell_type": "markdown",
   "metadata": {},
   "source": [
    "Commenting on the coefficients values:\n",
    "- `intercept`: is not directly interpretable; if we were consider it literally, at birth an individual would start with a negative debt of \\\\$11459.60, which doesn't make any sense. Because the lowest value in the data set is 18 years old, and the person with the minimum BMI in the sample has bmi of 15.96, we can say that regardless of sex, a person with this age and BMI would have a 'charge' of \n",
    "$18*259.79 + 15.96*322.63 - 11459.60$ which is equal to $-1634.21$, i.e. 18 (years) times the `age` coefficient, minus the intercept negative 'charge'.\n",
    "\n",
    "As we can see, the model is not very accurate because it has a prediction of negative values when in fact there is patient that has 18 years of age and the smallest BMI in the sample - 15.96, and dos not smoke, having actual insurance charges:"
   ]
  },
  {
   "cell_type": "code",
   "execution_count": 58,
   "metadata": {},
   "outputs": [
    {
     "name": "stdout",
     "output_type": "stream",
     "text": [
      "Predicted y:\n"
     ]
    },
    {
     "data": {
      "text/plain": [
       "-1730.6099279999999"
      ]
     },
     "execution_count": 58,
     "metadata": {},
     "output_type": "execute_result"
    }
   ],
   "source": [
    "print('Predicted y:') \n",
    "-11541.3321 + 260.0737*18 + 321.3907*15.96 + 23621.2286*0"
   ]
  },
  {
   "cell_type": "code",
   "execution_count": 59,
   "metadata": {},
   "outputs": [
    {
     "data": {
      "text/html": [
       "<div>\n",
       "<style scoped>\n",
       "    .dataframe tbody tr th:only-of-type {\n",
       "        vertical-align: middle;\n",
       "    }\n",
       "\n",
       "    .dataframe tbody tr th {\n",
       "        vertical-align: top;\n",
       "    }\n",
       "\n",
       "    .dataframe thead th {\n",
       "        text-align: right;\n",
       "    }\n",
       "</style>\n",
       "<table border=\"1\" class=\"dataframe\">\n",
       "  <thead>\n",
       "    <tr style=\"text-align: right;\">\n",
       "      <th></th>\n",
       "      <th>age</th>\n",
       "      <th>sex</th>\n",
       "      <th>bmi</th>\n",
       "      <th>children</th>\n",
       "      <th>smoker</th>\n",
       "      <th>region</th>\n",
       "      <th>charges</th>\n",
       "    </tr>\n",
       "  </thead>\n",
       "  <tbody>\n",
       "    <tr>\n",
       "      <th>172</th>\n",
       "      <td>18</td>\n",
       "      <td>1</td>\n",
       "      <td>15.96</td>\n",
       "      <td>0</td>\n",
       "      <td>0</td>\n",
       "      <td>northeast</td>\n",
       "      <td>1694.7964</td>\n",
       "    </tr>\n",
       "  </tbody>\n",
       "</table>\n",
       "</div>"
      ],
      "text/plain": [
       "     age  sex    bmi  children  smoker     region    charges\n",
       "172   18    1  15.96         0       0  northeast  1694.7964"
      ]
     },
     "execution_count": 59,
     "metadata": {},
     "output_type": "execute_result"
    }
   ],
   "source": [
    "ins.query('age == 18 & bmi == 15.96')"
   ]
  },
  {
   "cell_type": "markdown",
   "metadata": {},
   "source": [
    "Let's exclude `bmi` and check whether we have a positive insurance charge for a 18 year old non-smoker."
   ]
  },
  {
   "cell_type": "code",
   "execution_count": 116,
   "metadata": {},
   "outputs": [
    {
     "name": "stdout",
     "output_type": "stream",
     "text": [
      "summary =                  Results: Ordinary least squares\n",
      "==================================================================\n",
      "Model:              OLS              Adj. R-squared:     0.723    \n",
      "Dependent Variable: y                AIC:                1458.1556\n",
      "Date:               2023-04-11 17:02 BIC:                1473.0818\n",
      "No. Observations:   1070             Log-Likelihood:     -726.08  \n",
      "Df Model:           2                F-statistic:        1395.    \n",
      "Df Residuals:       1067             Prob (F-statistic): 1.86e-298\n",
      "R-squared:          0.723            Scale:              0.22811  \n",
      "---------------------------------------------------------------------\n",
      "         Coef.     Std.Err.       t        P>|t|     [0.025    0.975]\n",
      "---------------------------------------------------------------------\n",
      "const    8.7992      0.0164    536.9514    0.0000    8.7671    8.8314\n",
      "x1       0.4923      0.0147     33.3956    0.0000    0.4633    0.5212\n",
      "x2       1.5219      0.0362     42.0300    0.0000    1.4509    1.5930\n",
      "------------------------------------------------------------------\n",
      "Omnibus:             290.445       Durbin-Watson:          2.018  \n",
      "Prob(Omnibus):       0.000         Jarque-Bera (JB):       834.120\n",
      "Skew:                1.366         Prob(JB):               0.000  \n",
      "Kurtosis:            6.353         Condition No.:          3      \n",
      "==================================================================\n",
      "\n",
      "MSE = 0.23\n",
      "RMSE = 0.48\n"
     ]
    }
   ],
   "source": [
    "feats_2 = ['age', 'smoker']\n",
    "\n",
    "results_2 = reg_results(feats_2, train, train)\n",
    "\n",
    "result_printer(results_2)"
   ]
  },
  {
   "cell_type": "markdown",
   "metadata": {},
   "source": [
    "Commenting on the rest of the results.\n",
    "\n",
    "- `intercept`: in this case a non-smoker 18 year old patient will have a minimal insurance charge of $18*277.13 -2352.73  +23634.39*0$ which is a positive cost of \\\\$$2635.61$, despite of the intercept being negative.\n",
    "\n",
    "\n",
    "- `age`: a positive relation between aging and insurance increase is acceptable. The magnitude of this value is also acceptable: \\\\$277.13.\n",
    "\n",
    "\n",
    "- `sex`: is not significant - p-value = 0.5547, which surpasses the threshold of 0.05 by a lot. The model with this dummy as been omitted but the regression results can be seen in Annex I (`results_age`).\n",
    "\n",
    "\n",
    "- `smoker`: also shows an expected positive relation with `charge`. The value of the coefficient is of very high magnitude when compared with the others: being a smoker increases the insurance charges around \\\\$23634.39 It is statistically significant.\n",
    "\n",
    "\n",
    "**Coefficient validation**: Besides `sex`, both the intercept, `age` and `smoke`, are statistically significant at 1%.\n",
    "\n",
    "**Mean Squared Error**: The MSE, at this time is not relevant unless we compare it with the test MSE.\n",
    "\n",
    "**R-squared**: the $R^2$ shows that `age` and `smoker` are good predictors of the target since they account for 71.2% of its variation. Compared with the with the model that includes a significant 'bmi' the $R^2$ is 73.8%, which indicates that this variable is somehow redundant, thus reinforcing the idea that its exclusion as is, is justified."
   ]
  },
  {
   "cell_type": "markdown",
   "metadata": {},
   "source": [
    "### Residual Diagnostics"
   ]
  },
  {
   "cell_type": "code",
   "execution_count": 61,
   "metadata": {},
   "outputs": [],
   "source": [
    "y_hat_train_2 = results_2['ols'].predict(sm.add_constant(train[feats_2]).values)\n",
    "\n",
    "resids = train['charges'] - y_hat_train_2"
   ]
  },
  {
   "cell_type": "code",
   "execution_count": 62,
   "metadata": {},
   "outputs": [
    {
     "data": {
      "image/png": "[encoded data removed]",
      "text/plain": [
       "<Figure size 432x288 with 1 Axes>"
      ]
     },
     "metadata": {
      "needs_background": "light"
     },
     "output_type": "display_data"
    }
   ],
   "source": [
    "plt.scatter(train['charges'], resids)\n",
    "\n",
    "plt.ylabel('residuals')\n",
    "plt.xlabel('charges')\n",
    "\n",
    "plt.title('`Charges` Vs Residuals')\n",
    "\n",
    "plt.show()"
   ]
  },
  {
   "cell_type": "markdown",
   "metadata": {},
   "source": [
    "As we can see in the scatter plot above, the residuals do not appear to be round 0 at a constant variance. \n",
    "\n",
    "It seems that are two parallel upward trends where the residuals increase in magnitude as the `charges` increase."
   ]
  },
  {
   "cell_type": "code",
   "execution_count": 63,
   "metadata": {},
   "outputs": [
    {
     "data": {
      "image/png": "[encoded data removed]",
      "text/plain": [
       "<Figure size 1080x360 with 2 Axes>"
      ]
     },
     "metadata": {
      "needs_background": "light"
     },
     "output_type": "display_data"
    }
   ],
   "source": [
    "feats0 = ['age', 'smoker']\n",
    "\n",
    "fig, ax = plt.subplots(1, 2, figsize=(15, 5))\n",
    "\n",
    "plt.suptitle(\n",
    "    'Scatter Plots - Independent Variables Vs Residuals',\n",
    "    size=20,\n",
    "    y=1\n",
    "    )\n",
    "\n",
    "for i in range(0, 1+1):\n",
    "    row0 = ax[i]\n",
    "    row0.scatter(train[feats0[i]], resids)\n",
    "    row0.set_title(feats0[i])\n",
    "    row0.set_xlabel(feats0[i])\n",
    "    row0.set_ylabel('residuals')\n",
    "    \n",
    "plt.tight_layout()\n",
    "    \n",
    "plt.show()"
   ]
  },
  {
   "cell_type": "markdown",
   "metadata": {},
   "source": [
    "When fitting the explanatory variables against the residuals we cannot see a trend for `age`, where the residuals see heavier on the positive side, but at a constant variance. In the other, `smoker` has less extreme residuals when 0 (non-smoker) and more dispersion when 1 (smoker)."
   ]
  },
  {
   "cell_type": "markdown",
   "metadata": {},
   "source": [
    "## Prediction Error Comparision And Model Evaluation"
   ]
  },
  {
   "cell_type": "code",
   "execution_count": 117,
   "metadata": {},
   "outputs": [
    {
     "data": {
      "text/html": [
       "<div>\n",
       "<style scoped>\n",
       "    .dataframe tbody tr th:only-of-type {\n",
       "        vertical-align: middle;\n",
       "    }\n",
       "\n",
       "    .dataframe tbody tr th {\n",
       "        vertical-align: top;\n",
       "    }\n",
       "\n",
       "    .dataframe thead th {\n",
       "        text-align: right;\n",
       "    }\n",
       "</style>\n",
       "<table border=\"1\" class=\"dataframe\">\n",
       "  <thead>\n",
       "    <tr style=\"text-align: right;\">\n",
       "      <th></th>\n",
       "      <th>MSE</th>\n",
       "      <th>RMSE</th>\n",
       "    </tr>\n",
       "  </thead>\n",
       "  <tbody>\n",
       "    <tr>\n",
       "      <th>train</th>\n",
       "      <td>0.23</td>\n",
       "      <td>0.48</td>\n",
       "    </tr>\n",
       "    <tr>\n",
       "      <th>test</th>\n",
       "      <td>0.19</td>\n",
       "      <td>0.44</td>\n",
       "    </tr>\n",
       "  </tbody>\n",
       "</table>\n",
       "</div>"
      ],
      "text/plain": [
       "        MSE  RMSE\n",
       "train  0.23  0.48\n",
       "test   0.19  0.44"
      ]
     },
     "execution_count": 117,
     "metadata": {},
     "output_type": "execute_result"
    }
   ],
   "source": [
    "y_hat_test_2 = results_2['ols'].predict(sm.add_constant(test[feats_2]).values)\n",
    "\n",
    "mse_test_2 = round(mse(test['log_charges'], y_hat_test_2), 2)\n",
    "\n",
    "rmse_train_2 = np.sqrt(results_2['MSE'])\n",
    "rmse_test_2 = np.sqrt(mse_test_2)\n",
    "\n",
    "compare = pd.DataFrame(\n",
    "    {\n",
    "        'MSE': [results_2['MSE'], mse_test_2],\n",
    "        'RMSE': [rmse_train_2, rmse_test_2]\n",
    "    },\n",
    "    index=['train', 'test']\n",
    "    ).round(2)\n",
    "\n",
    "compare"
   ]
  },
  {
   "cell_type": "markdown",
   "metadata": {},
   "source": [
    "The RMSE of the test predicted values are slightly lower that the train RMSE, therefore we can affirm that this model has some predicting power. \n",
    "\n",
    "Let's see the range of the RMSE when compared with the minimum and maximum values in `test['charges']`:"
   ]
  },
  {
   "cell_type": "code",
   "execution_count": 118,
   "metadata": {},
   "outputs": [
    {
     "name": "stdout",
     "output_type": "stream",
     "text": [
      "Minimum error ratio: 3.95%\n",
      "Maximum error ratio: 6.2%\n"
     ]
    }
   ],
   "source": [
    "min_error = round(rmse_test_2*100/test['log_charges'].max(), 2)\n",
    "max_error = round(rmse_test_2*100/test['log_charges'].min(), 2)\n",
    "\n",
    "print(f'Minimum error ratio: {min_error}%')\n",
    "print(f'Maximum error ratio: {max_error}%')"
   ]
  },
  {
   "cell_type": "markdown",
   "metadata": {},
   "source": [
    "As we can see, the minimum value that we can find in `test['charges']` is a lot smaller than the respective RMSE - \\\\$1136.39 and \\\\$6112.83, respectively. Therefore, we cannot designate the current RMSE as adequate. We surely can produce a model with better predicting capabilities."
   ]
  },
  {
   "cell_type": "code",
   "execution_count": 66,
   "metadata": {},
   "outputs": [
    {
     "data": {
      "text/html": [
       "<div>\n",
       "<style scoped>\n",
       "    .dataframe tbody tr th:only-of-type {\n",
       "        vertical-align: middle;\n",
       "    }\n",
       "\n",
       "    .dataframe tbody tr th {\n",
       "        vertical-align: top;\n",
       "    }\n",
       "\n",
       "    .dataframe thead th {\n",
       "        text-align: right;\n",
       "    }\n",
       "</style>\n",
       "<table border=\"1\" class=\"dataframe\">\n",
       "  <thead>\n",
       "    <tr style=\"text-align: right;\">\n",
       "      <th></th>\n",
       "      <th>age</th>\n",
       "      <th>sex</th>\n",
       "      <th>bmi</th>\n",
       "      <th>children</th>\n",
       "      <th>smoker</th>\n",
       "      <th>region</th>\n",
       "      <th>charges</th>\n",
       "    </tr>\n",
       "  </thead>\n",
       "  <tbody>\n",
       "    <tr>\n",
       "      <th>663</th>\n",
       "      <td>18</td>\n",
       "      <td>1</td>\n",
       "      <td>33.66</td>\n",
       "      <td>0</td>\n",
       "      <td>0</td>\n",
       "      <td>southeast</td>\n",
       "      <td>1136.3994</td>\n",
       "    </tr>\n",
       "  </tbody>\n",
       "</table>\n",
       "</div>"
      ],
      "text/plain": [
       "     age  sex    bmi  children  smoker     region    charges\n",
       "663   18    1  33.66         0       0  southeast  1136.3994"
      ]
     },
     "execution_count": 66,
     "metadata": {},
     "output_type": "execute_result"
    }
   ],
   "source": [
    "test[test.charges==test[\"charges\"].min()]"
   ]
  },
  {
   "cell_type": "markdown",
   "metadata": {},
   "source": [
    "## Extra Task - Improve The Model By Adding Other Variables Such As Dummies\n",
    "---\n",
    "For this task, we'll be adding as explanatory variables, in separate models, dummy variables concerning age intervals and country regions."
   ]
  },
  {
   "cell_type": "markdown",
   "metadata": {},
   "source": [
    "### Adding country region.\n",
    "---\n",
    "As we seen previously, the `sex` variable is not significant, therefore we can exclude it from the next batteries' of analysis. \n",
    "\n",
    "To avoid the 'dummy trap' we'll be omitting the column `notheast` as our default state. \n",
    "\n",
    "#### Turning `region` into a set of dummy columns."
   ]
  },
  {
   "cell_type": "code",
   "execution_count": 120,
   "metadata": {},
   "outputs": [
    {
     "data": {
      "text/plain": [
       "{'northeast': 0, 'northwest': 1, 'southeast': 2, 'southwest': 3}"
      ]
     },
     "execution_count": 120,
     "metadata": {},
     "output_type": "execute_result"
    }
   ],
   "source": [
    "regions = dict(zip(sorted(list(ins.region.unique())), [0, 1, 2, 3]))\n",
    "\n",
    "regions"
   ]
  },
  {
   "cell_type": "code",
   "execution_count": 121,
   "metadata": {},
   "outputs": [],
   "source": [
    "ins['region_cat'] = pd.Categorical(\n",
    "    ins['region'].map(regions),\n",
    "    categories=[0, 1, 2, 3],\n",
    "    ordered=True)"
   ]
  },
  {
   "cell_type": "code",
   "execution_count": 122,
   "metadata": {},
   "outputs": [
    {
     "data": {
      "text/html": [
       "<div>\n",
       "<style scoped>\n",
       "    .dataframe tbody tr th:only-of-type {\n",
       "        vertical-align: middle;\n",
       "    }\n",
       "\n",
       "    .dataframe tbody tr th {\n",
       "        vertical-align: top;\n",
       "    }\n",
       "\n",
       "    .dataframe thead th {\n",
       "        text-align: right;\n",
       "    }\n",
       "</style>\n",
       "<table border=\"1\" class=\"dataframe\">\n",
       "  <thead>\n",
       "    <tr style=\"text-align: right;\">\n",
       "      <th></th>\n",
       "      <th>region</th>\n",
       "      <th>region_cat</th>\n",
       "    </tr>\n",
       "  </thead>\n",
       "  <tbody>\n",
       "    <tr>\n",
       "      <th>0</th>\n",
       "      <td>southwest</td>\n",
       "      <td>3</td>\n",
       "    </tr>\n",
       "    <tr>\n",
       "      <th>1</th>\n",
       "      <td>southeast</td>\n",
       "      <td>2</td>\n",
       "    </tr>\n",
       "    <tr>\n",
       "      <th>2</th>\n",
       "      <td>southeast</td>\n",
       "      <td>2</td>\n",
       "    </tr>\n",
       "    <tr>\n",
       "      <th>3</th>\n",
       "      <td>northwest</td>\n",
       "      <td>1</td>\n",
       "    </tr>\n",
       "    <tr>\n",
       "      <th>4</th>\n",
       "      <td>northwest</td>\n",
       "      <td>1</td>\n",
       "    </tr>\n",
       "  </tbody>\n",
       "</table>\n",
       "</div>"
      ],
      "text/plain": [
       "      region region_cat\n",
       "0  southwest          3\n",
       "1  southeast          2\n",
       "2  southeast          2\n",
       "3  northwest          1\n",
       "4  northwest          1"
      ]
     },
     "execution_count": 122,
     "metadata": {},
     "output_type": "execute_result"
    }
   ],
   "source": [
    "ins[['region', 'region_cat']].head()"
   ]
  },
  {
   "cell_type": "code",
   "execution_count": 123,
   "metadata": {},
   "outputs": [],
   "source": [
    "region_d = pd.get_dummies(ins.region_cat)\n",
    "\n",
    "region_d = region_d.rename(\n",
    "    columns={regions[key]: key for key in regions}\n",
    "    )\n",
    "\n",
    "ins = pd.concat([ins, region_d], axis=1)"
   ]
  },
  {
   "cell_type": "code",
   "execution_count": 124,
   "metadata": {},
   "outputs": [
    {
     "data": {
      "text/html": [
       "<div>\n",
       "<style scoped>\n",
       "    .dataframe tbody tr th:only-of-type {\n",
       "        vertical-align: middle;\n",
       "    }\n",
       "\n",
       "    .dataframe tbody tr th {\n",
       "        vertical-align: top;\n",
       "    }\n",
       "\n",
       "    .dataframe thead th {\n",
       "        text-align: right;\n",
       "    }\n",
       "</style>\n",
       "<table border=\"1\" class=\"dataframe\">\n",
       "  <thead>\n",
       "    <tr style=\"text-align: right;\">\n",
       "      <th></th>\n",
       "      <th>northeast</th>\n",
       "      <th>northwest</th>\n",
       "      <th>southeast</th>\n",
       "      <th>southwest</th>\n",
       "    </tr>\n",
       "  </thead>\n",
       "  <tbody>\n",
       "    <tr>\n",
       "      <th>0</th>\n",
       "      <td>0</td>\n",
       "      <td>0</td>\n",
       "      <td>0</td>\n",
       "      <td>1</td>\n",
       "    </tr>\n",
       "    <tr>\n",
       "      <th>1</th>\n",
       "      <td>0</td>\n",
       "      <td>0</td>\n",
       "      <td>1</td>\n",
       "      <td>0</td>\n",
       "    </tr>\n",
       "    <tr>\n",
       "      <th>2</th>\n",
       "      <td>0</td>\n",
       "      <td>0</td>\n",
       "      <td>1</td>\n",
       "      <td>0</td>\n",
       "    </tr>\n",
       "    <tr>\n",
       "      <th>3</th>\n",
       "      <td>0</td>\n",
       "      <td>1</td>\n",
       "      <td>0</td>\n",
       "      <td>0</td>\n",
       "    </tr>\n",
       "    <tr>\n",
       "      <th>4</th>\n",
       "      <td>0</td>\n",
       "      <td>1</td>\n",
       "      <td>0</td>\n",
       "      <td>0</td>\n",
       "    </tr>\n",
       "  </tbody>\n",
       "</table>\n",
       "</div>"
      ],
      "text/plain": [
       "   northeast  northwest  southeast  southwest\n",
       "0          0          0          0          1\n",
       "1          0          0          1          0\n",
       "2          0          0          1          0\n",
       "3          0          1          0          0\n",
       "4          0          1          0          0"
      ]
     },
     "execution_count": 124,
     "metadata": {},
     "output_type": "execute_result"
    }
   ],
   "source": [
    "ins[['northeast', 'northwest', 'southeast',\n",
    "       'southwest']].head()"
   ]
  },
  {
   "cell_type": "markdown",
   "metadata": {},
   "source": [
    "Split and train again, same random state."
   ]
  },
  {
   "cell_type": "code",
   "execution_count": 125,
   "metadata": {},
   "outputs": [],
   "source": [
    "train, test = split(ins, random_state=5, test_size=0.2)"
   ]
  },
  {
   "cell_type": "code",
   "execution_count": 126,
   "metadata": {},
   "outputs": [
    {
     "name": "stdout",
     "output_type": "stream",
     "text": [
      "summary =                  Results: Ordinary least squares\n",
      "==================================================================\n",
      "Model:              OLS              Adj. R-squared:     0.725    \n",
      "Dependent Variable: y                AIC:                1454.4445\n",
      "Date:               2023-04-11 17:07 BIC:                1484.2970\n",
      "No. Observations:   1070             Log-Likelihood:     -721.22  \n",
      "Df Model:           5                F-statistic:        563.4    \n",
      "Df Residuals:       1064             Prob (F-statistic): 5.85e-296\n",
      "R-squared:          0.726            Scale:              0.22669  \n",
      "--------------------------------------------------------------------\n",
      "           Coef.    Std.Err.      t       P>|t|     [0.025    0.975]\n",
      "--------------------------------------------------------------------\n",
      "const      8.8636     0.0308   287.9930   0.0000    8.8032    8.9240\n",
      "x1         0.4931     0.0147    33.5368   0.0000    0.4642    0.5219\n",
      "x2         1.5250     0.0362    42.1766   0.0000    1.4540    1.5959\n",
      "x3        -0.0406     0.0417    -0.9718   0.3314   -0.1225    0.0413\n",
      "x4        -0.1031     0.0410    -2.5122   0.0121   -0.1836   -0.0226\n",
      "x5        -0.1111     0.0421    -2.6425   0.0084   -0.1937   -0.0286\n",
      "------------------------------------------------------------------\n",
      "Omnibus:             290.924       Durbin-Watson:          2.019  \n",
      "Prob(Omnibus):       0.000         Jarque-Bera (JB):       819.446\n",
      "Skew:                1.377         Prob(JB):               0.000  \n",
      "Kurtosis:            6.286         Condition No.:          5      \n",
      "==================================================================\n",
      "\n",
      "MSE = 0.19\n",
      "RMSE = 0.44\n"
     ]
    }
   ],
   "source": [
    "feats_regions = [\n",
    "    'age', 'smoker', 'northwest', 'southeast','southwest'\n",
    "                ]\n",
    "\n",
    "results_regions = reg_results(feats_regions, train, test)\n",
    "\n",
    "\n",
    "result_printer(results_regions)"
   ]
  },
  {
   "cell_type": "markdown",
   "metadata": {},
   "source": [
    "In the results displayed above, we can see that controlling for regions does not yield significant coefficients, and also does not reduce the prediction error beyond the simpler model (see the table `compare_2` below)."
   ]
  },
  {
   "cell_type": "code",
   "execution_count": 127,
   "metadata": {},
   "outputs": [
    {
     "data": {
      "text/html": [
       "<div>\n",
       "<style scoped>\n",
       "    .dataframe tbody tr th:only-of-type {\n",
       "        vertical-align: middle;\n",
       "    }\n",
       "\n",
       "    .dataframe tbody tr th {\n",
       "        vertical-align: top;\n",
       "    }\n",
       "\n",
       "    .dataframe thead th {\n",
       "        text-align: right;\n",
       "    }\n",
       "</style>\n",
       "<table border=\"1\" class=\"dataframe\">\n",
       "  <thead>\n",
       "    <tr style=\"text-align: right;\">\n",
       "      <th></th>\n",
       "      <th>age, smoker</th>\n",
       "      <th>age, smoker, region dummies</th>\n",
       "    </tr>\n",
       "  </thead>\n",
       "  <tbody>\n",
       "    <tr>\n",
       "      <th>MSE</th>\n",
       "      <td>0.19</td>\n",
       "      <td>0.19</td>\n",
       "    </tr>\n",
       "    <tr>\n",
       "      <th>RMSE</th>\n",
       "      <td>0.44</td>\n",
       "      <td>0.44</td>\n",
       "    </tr>\n",
       "  </tbody>\n",
       "</table>\n",
       "</div>"
      ],
      "text/plain": [
       "      age, smoker  age, smoker, region dummies\n",
       "MSE          0.19                         0.19\n",
       "RMSE         0.44                         0.44"
      ]
     },
     "execution_count": 127,
     "metadata": {},
     "output_type": "execute_result"
    }
   ],
   "source": [
    "error_regions = [results_regions['MSE'], results_regions['RMSE']]\n",
    "\n",
    "compare_2 = pd.DataFrame(\n",
    "    {\n",
    "        'age, smoker': compare.loc['test', :].values,\n",
    "        'age, smoker, region dummies': error_regions\n",
    "    },\n",
    "    index=['MSE', 'RMSE'])\n",
    "\n",
    "compare_2"
   ]
  },
  {
   "cell_type": "markdown",
   "metadata": {},
   "source": [
    "### Analyzing age intervals.\n",
    "\n",
    "In this section we create and add dummies that allow the model to control for age intervals. The idea is to try to understand if insurance charges are set differently for young, middle age and senior adults.  "
   ]
  },
  {
   "cell_type": "code",
   "execution_count": 128,
   "metadata": {},
   "outputs": [
    {
     "data": {
      "text/plain": [
       "count    1.338000e+03\n",
       "mean    -1.805565e-16\n",
       "std      1.000374e+00\n",
       "min     -1.509965e+00\n",
       "25%     -8.691547e-01\n",
       "50%     -1.474046e-02\n",
       "75%      8.396738e-01\n",
       "max      1.765289e+00\n",
       "Name: age, dtype: float64"
      ]
     },
     "execution_count": 128,
     "metadata": {},
     "output_type": "execute_result"
    }
   ],
   "source": [
    "ins.age.describe()"
   ]
  },
  {
   "cell_type": "code",
   "execution_count": 129,
   "metadata": {},
   "outputs": [
    {
     "data": {
      "image/png": "[encoded data removed]",
      "text/plain": [
       "<Figure size 432x288 with 1 Axes>"
      ]
     },
     "metadata": {
      "needs_background": "light"
     },
     "output_type": "display_data"
    }
   ],
   "source": [
    "fig, ax = plt.subplots()\n",
    "\n",
    "ax.hist(ins.age, density=True, edgecolor = \"black\")\n",
    "ax.set_title('Age Frequency Distribution')\n",
    "ax.set_xticks(np.arange(18, 64+4, 4))\n",
    "ax.grid()\n",
    "ax.set_axisbelow(True)\n",
    "\n",
    "plt.show()"
   ]
  },
  {
   "cell_type": "markdown",
   "metadata": {},
   "source": [
    "According the the age histogram, there is an age interval that is more frequent than the rest, otherwise, all ages are relatively evenly distributed. \n",
    "\n",
    "Let's divide the age into three intervals:\n",
    "- 18 up to 34 (young adults - 6 years range )\n",
    "- 35 up to 59 middle age - 24 years range)\n",
    "- 60 up to 64 (seniors - 5 year range)\n",
    "\n",
    "\n",
    "The function below, `age_intervals()`, appends to `ins` the age related dummy columns, where `young` is the default _status_quo_. "
   ]
  },
  {
   "cell_type": "code",
   "execution_count": 130,
   "metadata": {},
   "outputs": [],
   "source": [
    "def age_intervals(df, y_range, m_range, s_range):\n",
    "    \n",
    "    young_adult = y_range\n",
    "    middle = m_range\n",
    "    seniors = s_range\n",
    "\n",
    "    modded_age = df.age.replace(young_adult, 'young_adult').replace(middle, 'middle_age').replace(seniors, 'senior')\n",
    "    \n",
    "    print(modded_age.value_counts(normalize=True).round(2))\n",
    "    \n",
    "    age_dummies = pd.get_dummies(modded_age).rename(\n",
    "                            columns={1: 'young_adult', 2: 'middle_age', 3:'senior'}\n",
    "                            ).drop(columns='young_adult')\n",
    "    \n",
    "    if 'middle_age' not in df.columns:\n",
    "        df = pd.concat([df, age_dummies], axis=1)\n",
    "    \n",
    "    return df"
   ]
  },
  {
   "cell_type": "markdown",
   "metadata": {},
   "source": [
    "`age_intervals()` also prints the normalized value counts so that we can have an idea of the distribution of the observations. As we can see below, patients with 60 years or more have a low representation - 9%, whilst the other age intervals are reasonably evenly distributed among themselves."
   ]
  },
  {
   "cell_type": "code",
   "execution_count": 131,
   "metadata": {},
   "outputs": [
    {
     "name": "stdout",
     "output_type": "stream",
     "text": [
      "# Frequency distribution `ins`:\n",
      "\n",
      "-1.509965    0.05\n",
      "-1.438764    0.05\n",
      " 0.768473    0.02\n",
      " 0.839674    0.02\n",
      " 0.554869    0.02\n",
      " 0.483668    0.02\n",
      " 0.412467    0.02\n",
      "-1.367563    0.02\n",
      " 0.626070    0.02\n",
      " 0.910875    0.02\n",
      "-1.225161    0.02\n",
      " 0.697271    0.02\n",
      " 1.053277    0.02\n",
      " 0.982076    0.02\n",
      "-1.296362    0.02\n",
      "-0.940356    0.02\n",
      "-1.082758    0.02\n",
      "-1.011557    0.02\n",
      "-0.797954    0.02\n",
      "-0.869155    0.02\n",
      "-1.153959    0.02\n",
      " 0.270064    0.02\n",
      "-0.726752    0.02\n",
      "-0.655551    0.02\n",
      " 0.127662    0.02\n",
      " 0.198863    0.02\n",
      " 0.341265    0.02\n",
      "-0.584350    0.02\n",
      " 0.056461    0.02\n",
      "-0.513149    0.02\n",
      "-0.441948    0.02\n",
      " 1.195680    0.02\n",
      "-0.370746    0.02\n",
      " 1.124479    0.02\n",
      " 1.266881    0.02\n",
      "-0.157143    0.02\n",
      " 1.409283    0.02\n",
      " 1.338082    0.02\n",
      "-0.228344    0.02\n",
      "-0.085942    0.02\n",
      "-0.299545    0.02\n",
      "-0.014740    0.02\n",
      " 1.551686    0.02\n",
      " 1.480485    0.02\n",
      " 1.694088    0.02\n",
      " 1.622887    0.02\n",
      " 1.765289    0.02\n",
      "Name: age, dtype: float64\n"
     ]
    },
    {
     "ename": "KeyError",
     "evalue": "\"['young_adult'] not found in axis\"",
     "output_type": "error",
     "traceback": [
      "\u001b[0;31m---------------------------------------------------------------------------\u001b[0m",
      "\u001b[0;31mKeyError\u001b[0m                                  Traceback (most recent call last)",
      "\u001b[0;32m<ipython-input-131-c8d34650f56b>\u001b[0m in \u001b[0;36m<module>\u001b[0;34m\u001b[0m\n\u001b[1;32m      4\u001b[0m \u001b[0;34m\u001b[0m\u001b[0m\n\u001b[1;32m      5\u001b[0m \u001b[0mprint\u001b[0m\u001b[0;34m(\u001b[0m\u001b[0;34m'# Frequency distribution `ins`:\\n'\u001b[0m\u001b[0;34m)\u001b[0m\u001b[0;34m\u001b[0m\u001b[0;34m\u001b[0m\u001b[0m\n\u001b[0;32m----> 6\u001b[0;31m \u001b[0mins_age_1\u001b[0m \u001b[0;34m=\u001b[0m \u001b[0mage_intervals\u001b[0m\u001b[0;34m(\u001b[0m\u001b[0mins\u001b[0m\u001b[0;34m,\u001b[0m \u001b[0myoung_adult\u001b[0m\u001b[0;34m,\u001b[0m \u001b[0mmiddle\u001b[0m\u001b[0;34m,\u001b[0m \u001b[0mseniors\u001b[0m\u001b[0;34m)\u001b[0m\u001b[0;34m\u001b[0m\u001b[0;34m\u001b[0m\u001b[0m\n\u001b[0m\u001b[1;32m      7\u001b[0m \u001b[0;34m\u001b[0m\u001b[0m\n\u001b[1;32m      8\u001b[0m \u001b[0mprint\u001b[0m\u001b[0;34m(\u001b[0m\u001b[0;34m'\\n# Frequency distribution `train`:\\n'\u001b[0m\u001b[0;34m)\u001b[0m\u001b[0;34m\u001b[0m\u001b[0;34m\u001b[0m\u001b[0m\n",
      "\u001b[0;32m<ipython-input-130-faa5a714a150>\u001b[0m in \u001b[0;36mage_intervals\u001b[0;34m(df, y_range, m_range, s_range)\u001b[0m\n\u001b[1;32m      9\u001b[0m     \u001b[0mprint\u001b[0m\u001b[0;34m(\u001b[0m\u001b[0mmodded_age\u001b[0m\u001b[0;34m.\u001b[0m\u001b[0mvalue_counts\u001b[0m\u001b[0;34m(\u001b[0m\u001b[0mnormalize\u001b[0m\u001b[0;34m=\u001b[0m\u001b[0;32mTrue\u001b[0m\u001b[0;34m)\u001b[0m\u001b[0;34m.\u001b[0m\u001b[0mround\u001b[0m\u001b[0;34m(\u001b[0m\u001b[0;36m2\u001b[0m\u001b[0;34m)\u001b[0m\u001b[0;34m)\u001b[0m\u001b[0;34m\u001b[0m\u001b[0;34m\u001b[0m\u001b[0m\n\u001b[1;32m     10\u001b[0m \u001b[0;34m\u001b[0m\u001b[0m\n\u001b[0;32m---> 11\u001b[0;31m     age_dummies = pd.get_dummies(modded_age).rename(\n\u001b[0m\u001b[1;32m     12\u001b[0m                             \u001b[0mcolumns\u001b[0m\u001b[0;34m=\u001b[0m\u001b[0;34m{\u001b[0m\u001b[0;36m1\u001b[0m\u001b[0;34m:\u001b[0m \u001b[0;34m'young_adult'\u001b[0m\u001b[0;34m,\u001b[0m \u001b[0;36m2\u001b[0m\u001b[0;34m:\u001b[0m \u001b[0;34m'middle_age'\u001b[0m\u001b[0;34m,\u001b[0m \u001b[0;36m3\u001b[0m\u001b[0;34m:\u001b[0m\u001b[0;34m'senior'\u001b[0m\u001b[0;34m}\u001b[0m\u001b[0;34m\u001b[0m\u001b[0;34m\u001b[0m\u001b[0m\n\u001b[1;32m     13\u001b[0m                             ).drop(columns='young_adult')\n",
      "\u001b[0;32m/usr/local/lib/python3.9/dist-packages/pandas/util/_decorators.py\u001b[0m in \u001b[0;36mwrapper\u001b[0;34m(*args, **kwargs)\u001b[0m\n\u001b[1;32m    309\u001b[0m                     \u001b[0mstacklevel\u001b[0m\u001b[0;34m=\u001b[0m\u001b[0mstacklevel\u001b[0m\u001b[0;34m,\u001b[0m\u001b[0;34m\u001b[0m\u001b[0;34m\u001b[0m\u001b[0m\n\u001b[1;32m    310\u001b[0m                 )\n\u001b[0;32m--> 311\u001b[0;31m             \u001b[0;32mreturn\u001b[0m \u001b[0mfunc\u001b[0m\u001b[0;34m(\u001b[0m\u001b[0;34m*\u001b[0m\u001b[0margs\u001b[0m\u001b[0;34m,\u001b[0m \u001b[0;34m**\u001b[0m\u001b[0mkwargs\u001b[0m\u001b[0;34m)\u001b[0m\u001b[0;34m\u001b[0m\u001b[0;34m\u001b[0m\u001b[0m\n\u001b[0m\u001b[1;32m    312\u001b[0m \u001b[0;34m\u001b[0m\u001b[0m\n\u001b[1;32m    313\u001b[0m         \u001b[0;32mreturn\u001b[0m \u001b[0mwrapper\u001b[0m\u001b[0;34m\u001b[0m\u001b[0;34m\u001b[0m\u001b[0m\n",
      "\u001b[0;32m/usr/local/lib/python3.9/dist-packages/pandas/core/frame.py\u001b[0m in \u001b[0;36mdrop\u001b[0;34m(self, labels, axis, index, columns, level, inplace, errors)\u001b[0m\n\u001b[1;32m   4952\u001b[0m                 \u001b[0mweight\u001b[0m  \u001b[0;36m1.0\u001b[0m     \u001b[0;36m0.8\u001b[0m\u001b[0;34m\u001b[0m\u001b[0;34m\u001b[0m\u001b[0m\n\u001b[1;32m   4953\u001b[0m         \"\"\"\n\u001b[0;32m-> 4954\u001b[0;31m         return super().drop(\n\u001b[0m\u001b[1;32m   4955\u001b[0m             \u001b[0mlabels\u001b[0m\u001b[0;34m=\u001b[0m\u001b[0mlabels\u001b[0m\u001b[0;34m,\u001b[0m\u001b[0;34m\u001b[0m\u001b[0;34m\u001b[0m\u001b[0m\n\u001b[1;32m   4956\u001b[0m             \u001b[0maxis\u001b[0m\u001b[0;34m=\u001b[0m\u001b[0maxis\u001b[0m\u001b[0;34m,\u001b[0m\u001b[0;34m\u001b[0m\u001b[0;34m\u001b[0m\u001b[0m\n",
      "\u001b[0;32m/usr/local/lib/python3.9/dist-packages/pandas/core/generic.py\u001b[0m in \u001b[0;36mdrop\u001b[0;34m(self, labels, axis, index, columns, level, inplace, errors)\u001b[0m\n\u001b[1;32m   4265\u001b[0m         \u001b[0;32mfor\u001b[0m \u001b[0maxis\u001b[0m\u001b[0;34m,\u001b[0m \u001b[0mlabels\u001b[0m \u001b[0;32min\u001b[0m \u001b[0maxes\u001b[0m\u001b[0;34m.\u001b[0m\u001b[0mitems\u001b[0m\u001b[0;34m(\u001b[0m\u001b[0;34m)\u001b[0m\u001b[0;34m:\u001b[0m\u001b[0;34m\u001b[0m\u001b[0;34m\u001b[0m\u001b[0m\n\u001b[1;32m   4266\u001b[0m             \u001b[0;32mif\u001b[0m \u001b[0mlabels\u001b[0m \u001b[0;32mis\u001b[0m \u001b[0;32mnot\u001b[0m \u001b[0;32mNone\u001b[0m\u001b[0;34m:\u001b[0m\u001b[0;34m\u001b[0m\u001b[0;34m\u001b[0m\u001b[0m\n\u001b[0;32m-> 4267\u001b[0;31m                 \u001b[0mobj\u001b[0m \u001b[0;34m=\u001b[0m \u001b[0mobj\u001b[0m\u001b[0;34m.\u001b[0m\u001b[0m_drop_axis\u001b[0m\u001b[0;34m(\u001b[0m\u001b[0mlabels\u001b[0m\u001b[0;34m,\u001b[0m \u001b[0maxis\u001b[0m\u001b[0;34m,\u001b[0m \u001b[0mlevel\u001b[0m\u001b[0;34m=\u001b[0m\u001b[0mlevel\u001b[0m\u001b[0;34m,\u001b[0m \u001b[0merrors\u001b[0m\u001b[0;34m=\u001b[0m\u001b[0merrors\u001b[0m\u001b[0;34m)\u001b[0m\u001b[0;34m\u001b[0m\u001b[0;34m\u001b[0m\u001b[0m\n\u001b[0m\u001b[1;32m   4268\u001b[0m \u001b[0;34m\u001b[0m\u001b[0m\n\u001b[1;32m   4269\u001b[0m         \u001b[0;32mif\u001b[0m \u001b[0minplace\u001b[0m\u001b[0;34m:\u001b[0m\u001b[0;34m\u001b[0m\u001b[0;34m\u001b[0m\u001b[0m\n",
      "\u001b[0;32m/usr/local/lib/python3.9/dist-packages/pandas/core/generic.py\u001b[0m in \u001b[0;36m_drop_axis\u001b[0;34m(self, labels, axis, level, errors, consolidate, only_slice)\u001b[0m\n\u001b[1;32m   4309\u001b[0m                 \u001b[0mnew_axis\u001b[0m \u001b[0;34m=\u001b[0m \u001b[0maxis\u001b[0m\u001b[0;34m.\u001b[0m\u001b[0mdrop\u001b[0m\u001b[0;34m(\u001b[0m\u001b[0mlabels\u001b[0m\u001b[0;34m,\u001b[0m \u001b[0mlevel\u001b[0m\u001b[0;34m=\u001b[0m\u001b[0mlevel\u001b[0m\u001b[0;34m,\u001b[0m \u001b[0merrors\u001b[0m\u001b[0;34m=\u001b[0m\u001b[0merrors\u001b[0m\u001b[0;34m)\u001b[0m\u001b[0;34m\u001b[0m\u001b[0;34m\u001b[0m\u001b[0m\n\u001b[1;32m   4310\u001b[0m             \u001b[0;32melse\u001b[0m\u001b[0;34m:\u001b[0m\u001b[0;34m\u001b[0m\u001b[0;34m\u001b[0m\u001b[0m\n\u001b[0;32m-> 4311\u001b[0;31m                 \u001b[0mnew_axis\u001b[0m \u001b[0;34m=\u001b[0m \u001b[0maxis\u001b[0m\u001b[0;34m.\u001b[0m\u001b[0mdrop\u001b[0m\u001b[0;34m(\u001b[0m\u001b[0mlabels\u001b[0m\u001b[0;34m,\u001b[0m \u001b[0merrors\u001b[0m\u001b[0;34m=\u001b[0m\u001b[0merrors\u001b[0m\u001b[0;34m)\u001b[0m\u001b[0;34m\u001b[0m\u001b[0;34m\u001b[0m\u001b[0m\n\u001b[0m\u001b[1;32m   4312\u001b[0m             \u001b[0mindexer\u001b[0m \u001b[0;34m=\u001b[0m \u001b[0maxis\u001b[0m\u001b[0;34m.\u001b[0m\u001b[0mget_indexer\u001b[0m\u001b[0;34m(\u001b[0m\u001b[0mnew_axis\u001b[0m\u001b[0;34m)\u001b[0m\u001b[0;34m\u001b[0m\u001b[0;34m\u001b[0m\u001b[0m\n\u001b[1;32m   4313\u001b[0m \u001b[0;34m\u001b[0m\u001b[0m\n",
      "\u001b[0;32m/usr/local/lib/python3.9/dist-packages/pandas/core/indexes/base.py\u001b[0m in \u001b[0;36mdrop\u001b[0;34m(self, labels, errors)\u001b[0m\n\u001b[1;32m   6642\u001b[0m         \u001b[0;32mif\u001b[0m \u001b[0mmask\u001b[0m\u001b[0;34m.\u001b[0m\u001b[0many\u001b[0m\u001b[0;34m(\u001b[0m\u001b[0;34m)\u001b[0m\u001b[0;34m:\u001b[0m\u001b[0;34m\u001b[0m\u001b[0;34m\u001b[0m\u001b[0m\n\u001b[1;32m   6643\u001b[0m             \u001b[0;32mif\u001b[0m \u001b[0merrors\u001b[0m \u001b[0;34m!=\u001b[0m \u001b[0;34m\"ignore\"\u001b[0m\u001b[0;34m:\u001b[0m\u001b[0;34m\u001b[0m\u001b[0;34m\u001b[0m\u001b[0m\n\u001b[0;32m-> 6644\u001b[0;31m                 \u001b[0;32mraise\u001b[0m \u001b[0mKeyError\u001b[0m\u001b[0;34m(\u001b[0m\u001b[0;34mf\"{list(labels[mask])} not found in axis\"\u001b[0m\u001b[0;34m)\u001b[0m\u001b[0;34m\u001b[0m\u001b[0;34m\u001b[0m\u001b[0m\n\u001b[0m\u001b[1;32m   6645\u001b[0m             \u001b[0mindexer\u001b[0m \u001b[0;34m=\u001b[0m \u001b[0mindexer\u001b[0m\u001b[0;34m[\u001b[0m\u001b[0;34m~\u001b[0m\u001b[0mmask\u001b[0m\u001b[0;34m]\u001b[0m\u001b[0;34m\u001b[0m\u001b[0;34m\u001b[0m\u001b[0m\n\u001b[1;32m   6646\u001b[0m         \u001b[0;32mreturn\u001b[0m \u001b[0mself\u001b[0m\u001b[0;34m.\u001b[0m\u001b[0mdelete\u001b[0m\u001b[0;34m(\u001b[0m\u001b[0mindexer\u001b[0m\u001b[0;34m)\u001b[0m\u001b[0;34m\u001b[0m\u001b[0;34m\u001b[0m\u001b[0m\n",
      "\u001b[0;31mKeyError\u001b[0m: \"['young_adult'] not found in axis\""
     ]
    }
   ],
   "source": [
    "young_adult = range(18, 34+1)\n",
    "middle = range(35, 59+1)\n",
    "seniors = range(60, 64+1)\n",
    "\n",
    "print('# Frequency distribution `ins`:\\n')\n",
    "ins_age_1 = age_intervals(ins, young_adult, middle, seniors)\n",
    "\n",
    "print('\\n# Frequency distribution `train`:\\n')\n",
    "train = age_intervals(train, young_adult, middle, seniors)\n",
    "\n",
    "print('\\n# Frequency distribution `test`:\\n')\n",
    "test = age_intervals(test, young_adult, middle, seniors)"
   ]
  },
  {
   "cell_type": "markdown",
   "metadata": {},
   "source": [
    "Fitting the new model with two dummies - `middle_age` and `senior`; the default _status_quo_ is 'young adult', and replacing `age` by `bmi`."
   ]
  },
  {
   "cell_type": "code",
   "execution_count": 79,
   "metadata": {},
   "outputs": [
    {
     "name": "stdout",
     "output_type": "stream",
     "text": [
      "summary =                   Results: Ordinary least squares\n",
      "===================================================================\n",
      "Model:              OLS              Adj. R-squared:     0.721     \n",
      "Dependent Variable: y                AIC:                21783.9710\n",
      "Date:               2023-04-04 15:41 BIC:                21808.8480\n",
      "No. Observations:   1070             Log-Likelihood:     -10887.   \n",
      "Df Model:           4                F-statistic:        692.1     \n",
      "Df Residuals:       1065             Prob (F-statistic): 2.40e-294 \n",
      "R-squared:          0.722            Scale:              4.0480e+07\n",
      "-------------------------------------------------------------------\n",
      "            Coef.     Std.Err.    t    P>|t|    [0.025     0.975]  \n",
      "-------------------------------------------------------------------\n",
      "const     -5218.2823 1011.2836 -5.1601 0.0000 -7202.6169 -3233.9478\n",
      "x1          336.3239   31.9649 10.5216 0.0000   273.6024   399.0453\n",
      "x2        23377.8133  482.4395 48.4575 0.0000 22431.1734 24324.4532\n",
      "x3         5169.3768  411.7224 12.5555 0.0000  4361.4976  5977.2560\n",
      "x4        10709.3448  744.4366 14.3858 0.0000  9248.6158 12170.0738\n",
      "-------------------------------------------------------------------\n",
      "Omnibus:              209.346       Durbin-Watson:          2.064  \n",
      "Prob(Omnibus):        0.000         Jarque-Bera (JB):       420.562\n",
      "Skew:                 1.127         Prob(JB):               0.000  \n",
      "Kurtosis:             5.086         Condition No.:          164    \n",
      "===================================================================\n",
      "\n",
      "MSE = 37266914.51\n",
      "RMSE = 6104.66\n"
     ]
    }
   ],
   "source": [
    "feats_age = [\n",
    "    'bmi', 'smoker', 'middle_age', 'senior'\n",
    "                ]\n",
    "\n",
    "results_age = reg_results(feats_age, train, test)\n",
    "\n",
    "\n",
    "result_printer(results_age)"
   ]
  },
  {
   "cell_type": "markdown",
   "metadata": {},
   "source": [
    "As we can see below, adding age intervals as parameters do not add relevant predicting power to the model even though they appear to be significant for a 5% threshold.\n"
   ]
  },
  {
   "cell_type": "code",
   "execution_count": 80,
   "metadata": {},
   "outputs": [
    {
     "data": {
      "text/html": [
       "<div>\n",
       "<style scoped>\n",
       "    .dataframe tbody tr th:only-of-type {\n",
       "        vertical-align: middle;\n",
       "    }\n",
       "\n",
       "    .dataframe tbody tr th {\n",
       "        vertical-align: top;\n",
       "    }\n",
       "\n",
       "    .dataframe thead th {\n",
       "        text-align: right;\n",
       "    }\n",
       "</style>\n",
       "<table border=\"1\" class=\"dataframe\">\n",
       "  <thead>\n",
       "    <tr style=\"text-align: right;\">\n",
       "      <th></th>\n",
       "      <th>age, smoker</th>\n",
       "      <th>age, smoker, region dummies</th>\n",
       "      <th>bmi, smoker, age dummies</th>\n",
       "    </tr>\n",
       "  </thead>\n",
       "  <tbody>\n",
       "    <tr>\n",
       "      <th>MSE</th>\n",
       "      <td>37366693.21</td>\n",
       "      <td>37482822.39</td>\n",
       "      <td>37266914.51</td>\n",
       "    </tr>\n",
       "    <tr>\n",
       "      <th>RMSE</th>\n",
       "      <td>6112.83</td>\n",
       "      <td>6122.32</td>\n",
       "      <td>6104.66</td>\n",
       "    </tr>\n",
       "  </tbody>\n",
       "</table>\n",
       "</div>"
      ],
      "text/plain": [
       "      age, smoker  age, smoker, region dummies  bmi, smoker, age dummies\n",
       "MSE   37366693.21                  37482822.39               37266914.51\n",
       "RMSE      6112.83                      6122.32                   6104.66"
      ]
     },
     "execution_count": 80,
     "metadata": {},
     "output_type": "execute_result"
    }
   ],
   "source": [
    "error_age = pd.Series(\n",
    "    [results_age['MSE'], results_age['RMSE']],\n",
    "    index=['MSE', 'RMSE'], name='bmi, smoker, age dummies')\n",
    "\n",
    "compare_3 = pd.concat([compare_2, error_age], axis=1)\n",
    "\n",
    "compare_3"
   ]
  },
  {
   "cell_type": "markdown",
   "metadata": {},
   "source": [
    "### Looking for other structural patterns in the data set.\n",
    "\n",
    "Since we were not able to find any significant relationships between both regions and age intervals in relation to insurance charges we finish the analysis analysis with a section that tries to find what is the factor that creates the three patterns we can see in the scatter plot that observes `age` vs `charges`: as we can see (below), there is base that seems to have a increasing trend, and than two other lines above it. If we were able to find a model that could control for this pattern, it would render better predictions."
   ]
  },
  {
   "cell_type": "code",
   "execution_count": 81,
   "metadata": {},
   "outputs": [
    {
     "data": {
      "image/png": "[encoded data removed]",
      "text/plain": [
       "<Figure size 432x288 with 1 Axes>"
      ]
     },
     "metadata": {
      "needs_background": "light"
     },
     "output_type": "display_data"
    }
   ],
   "source": [
    "plt.scatter(ins.age, ins.charges)\n",
    "\n",
    "plt.title('Age Vs Charge')\n",
    "\n",
    "plt.show()"
   ]
  },
  {
   "cell_type": "markdown",
   "metadata": {},
   "source": [
    "As we can see in the scatter plot below, controlling for 'smoker/non-smoker' shows those two trends above the base line."
   ]
  },
  {
   "cell_type": "code",
   "execution_count": 82,
   "metadata": {},
   "outputs": [
    {
     "data": {
      "image/png": "[encoded data removed]",
      "text/plain": [
       "<Figure size 432x288 with 1 Axes>"
      ]
     },
     "metadata": {
      "needs_background": "light"
     },
     "output_type": "display_data"
    }
   ],
   "source": [
    "plt.scatter(ins.query('smoker == 0').age,\n",
    "            ins.query('smoker == 0').charges,\n",
    "            color='blue',\n",
    "            label='non-smoker')\n",
    "\n",
    "plt.scatter(ins.query('smoker == 1').age,\n",
    "            ins.query('smoker == 1').charges,\n",
    "            color='green',\n",
    "            label='smoker')\n",
    "\n",
    "plt.legend(loc=2)\n",
    "\n",
    "plt.xlabel('Age')\n",
    "plt.ylabel('Charges')\n",
    "\n",
    "plt.title('Non-Smokers and Smokers By Age vs Charges')\n",
    "\n",
    "plt.show()"
   ]
  },
  {
   "cell_type": "markdown",
   "metadata": {},
   "source": [
    "Creating filter that signals patients that are male, obese and smoke, shows that the upper trend can be distinguished from the others two below. Although omitted, controlling also for sex, i.e. sex, smoker, BMI, does not yield gender differences."
   ]
  },
  {
   "cell_type": "code",
   "execution_count": 83,
   "metadata": {},
   "outputs": [
    {
     "data": {
      "image/png": "[encoded data removed]",
      "text/plain": [
       "<Figure size 432x288 with 1 Axes>"
      ]
     },
     "metadata": {
      "needs_background": "light"
     },
     "output_type": "display_data"
    }
   ],
   "source": [
    "plt.scatter(ins.query('smoker == 0').age,\n",
    "            ins.query('smoker == 0').charges,\n",
    "            color='blue',\n",
    "            label='non-smoker')\n",
    "\n",
    "plt.scatter(ins.query('smoker == 1 & bmi > 30').age,\n",
    "            ins.query('smoker == 1 & bmi > 30').charges,\n",
    "            color='green',\n",
    "            label='male, obese, smoker')\n",
    "\n",
    "plt.legend(loc=2)\n",
    "\n",
    "plt.xlabel('Age')\n",
    "plt.ylabel('Charges')\n",
    "\n",
    "plt.title('Male Obese (BMI over 30) Non-Smokers and Smokers By Age vs Charges')\n",
    "\n",
    "plt.show()"
   ]
  },
  {
   "cell_type": "markdown",
   "metadata": {},
   "source": [
    "If we control for BMI for smoker vs non-smoker, we can also see that obese smokers are paying mode charges."
   ]
  },
  {
   "cell_type": "code",
   "execution_count": 84,
   "metadata": {},
   "outputs": [
    {
     "data": {
      "image/png": "[encoded data removed]",
      "text/plain": [
       "<Figure size 432x288 with 1 Axes>"
      ]
     },
     "metadata": {
      "needs_background": "light"
     },
     "output_type": "display_data"
    }
   ],
   "source": [
    "plt.scatter(ins.query('smoker == 0').bmi,\n",
    "            ins.query('smoker == 0').charges,\n",
    "            color='blue',\n",
    "            label='non-smoker')\n",
    "\n",
    "plt.scatter(ins.query('smoker == 1 & bmi > 30').bmi,\n",
    "            ins.query('smoker == 1 & bmi > 30').charges,\n",
    "            color='green',\n",
    "            label='obese, smoker')\n",
    "\n",
    "plt.legend(loc=2)\n",
    "\n",
    "plt.xlabel('BMI')\n",
    "plt.ylabel('Charges')\n",
    "\n",
    "plt.title('Obese (BMI over 30) Smokers By BMI vs Charges')\n",
    "\n",
    "plt.show()"
   ]
  },
  {
   "cell_type": "markdown",
   "metadata": {},
   "source": [
    "### 'Dummyfying' BMI into not-obese/obese."
   ]
  },
  {
   "cell_type": "code",
   "execution_count": 152,
   "metadata": {},
   "outputs": [],
   "source": [
    "ins['obese'] = ins.bmi.apply(lambda x: 0 if x < 30 else 1)\n",
    "\n",
    "train, test = split(ins, random_state=5, test_size=0.2)"
   ]
  },
  {
   "cell_type": "code",
   "execution_count": 153,
   "metadata": {},
   "outputs": [
    {
     "name": "stdout",
     "output_type": "stream",
     "text": [
      "summary =                  Results: Ordinary least squares\n",
      "==================================================================\n",
      "Model:              OLS              Adj. R-squared:     0.728    \n",
      "Dependent Variable: y                AIC:                1439.0134\n",
      "Date:               2023-04-11 17:12 BIC:                1458.9151\n",
      "No. Observations:   1070             Log-Likelihood:     -715.51  \n",
      "Df Model:           3                F-statistic:        954.7    \n",
      "Df Residuals:       1066             Prob (F-statistic): 2.10e-301\n",
      "R-squared:          0.729            Scale:              0.22386  \n",
      "---------------------------------------------------------------------\n",
      "         Coef.     Std.Err.       t        P>|t|     [0.025    0.975]\n",
      "---------------------------------------------------------------------\n",
      "const    7.3731      0.0459    160.5511    0.0000    7.2830    7.4632\n",
      "x1       0.0346      0.0010     33.0595    0.0000    0.0325    0.0366\n",
      "x2       1.5206      0.0359     42.3901    0.0000    1.4502    1.5910\n",
      "x3       0.1345      0.0292      4.6122    0.0000    0.0773    0.1917\n",
      "------------------------------------------------------------------\n",
      "Omnibus:             295.089       Durbin-Watson:          2.022  \n",
      "Prob(Omnibus):       0.000         Jarque-Bera (JB):       883.209\n",
      "Skew:                1.371         Prob(JB):               0.000  \n",
      "Kurtosis:            6.506         Condition No.:          139    \n",
      "==================================================================\n",
      "\n",
      "MSE = 0.19\n",
      "RMSE = 0.44\n"
     ]
    }
   ],
   "source": [
    "feats_obese_1 = ['age', 'smoker', 'obese']\n",
    "\n",
    "results_obese_1 = reg_results(feats_obese_1, train, test)\n",
    "\n",
    "result_printer(results_obese_1)"
   ]
  },
  {
   "cell_type": "markdown",
   "metadata": {},
   "source": [
    "#### Error comparison with previous models. "
   ]
  },
  {
   "cell_type": "code",
   "execution_count": 87,
   "metadata": {},
   "outputs": [
    {
     "data": {
      "text/html": [
       "<div>\n",
       "<style scoped>\n",
       "    .dataframe tbody tr th:only-of-type {\n",
       "        vertical-align: middle;\n",
       "    }\n",
       "\n",
       "    .dataframe tbody tr th {\n",
       "        vertical-align: top;\n",
       "    }\n",
       "\n",
       "    .dataframe thead th {\n",
       "        text-align: right;\n",
       "    }\n",
       "</style>\n",
       "<table border=\"1\" class=\"dataframe\">\n",
       "  <thead>\n",
       "    <tr style=\"text-align: right;\">\n",
       "      <th></th>\n",
       "      <th>age, smoker</th>\n",
       "      <th>age, smoker, region dummies</th>\n",
       "      <th>bmi, smoker, age dummies</th>\n",
       "      <th>age, smoker, obese</th>\n",
       "    </tr>\n",
       "  </thead>\n",
       "  <tbody>\n",
       "    <tr>\n",
       "      <th>MSE</th>\n",
       "      <td>37366693.21</td>\n",
       "      <td>37482822.39</td>\n",
       "      <td>37266914.51</td>\n",
       "      <td>32420904.00</td>\n",
       "    </tr>\n",
       "    <tr>\n",
       "      <th>RMSE</th>\n",
       "      <td>6112.83</td>\n",
       "      <td>6122.32</td>\n",
       "      <td>6104.66</td>\n",
       "      <td>5693.94</td>\n",
       "    </tr>\n",
       "  </tbody>\n",
       "</table>\n",
       "</div>"
      ],
      "text/plain": [
       "      age, smoker  age, smoker, region dummies  bmi, smoker, age dummies  \\\n",
       "MSE   37366693.21                  37482822.39               37266914.51   \n",
       "RMSE      6112.83                      6122.32                   6104.66   \n",
       "\n",
       "      age, smoker, obese  \n",
       "MSE          32420904.00  \n",
       "RMSE             5693.94  "
      ]
     },
     "execution_count": 87,
     "metadata": {},
     "output_type": "execute_result"
    }
   ],
   "source": [
    "error_obese = pd.Series(\n",
    "    [results_obese_1['MSE'], results_obese_1['RMSE']],\n",
    "    index=['MSE', 'RMSE'],\n",
    "    name='age, smoker, obese'\n",
    "    )\n",
    "\n",
    "compare_4 = pd.concat([compare_3, error_obese], axis=1)\n",
    "\n",
    "compare_4"
   ]
  },
  {
   "cell_type": "markdown",
   "metadata": {},
   "source": [
    "As we can see, there is an improvement in the model when we control for obesity: obese patients (BMI over 30) will spend on average more \n",
    "\\\\$4128.76 than non obese patients. \n",
    "\n",
    "In terms of variation explanation, this model has more power than the previous:\n",
    "- $R^2_{\\text{age, smoker}} = 0.712$ \n",
    "- $R^2_{\\text{age, smoker, obese}} = 0.741$  \n",
    "\n",
    "We can also see that the patient with the minimum age of 18 years cannot have negative charges:\n",
    "\n",
    "$(18 * 261.9359) - 3949.2101 = 765.6361$ USD\n",
    "\n",
    "In terms of predicting power, we can see that the new model shows a lower MSE and RMSE when compared with the previous."
   ]
  },
  {
   "cell_type": "markdown",
   "metadata": {},
   "source": [
    "## Conclusion\n",
    "---\n",
    "With this project we've found out that the explanatory variables from the original data set that best help to predict the medical insurances charges were `age`, `smoker` and `obese`: that is, the older a person becomes, the more it pays in charges; smokers and obese people also pay more in insurance charges than their counter parts. On the other hand, we saw that controlling for genre, region, and even age intervals, did not help to come up with a better model, since these variables were not significant neither resulted in better predictions. In terms of improvements that can be achieved, if the data had columns that gathered a few socio-economical aspects of the patients it would certainly contribute to predict insurance charges more accurately. In these socio-economical features we can include the type of job the patient has, e.g. distinguishing between desk jobs from 'hard labor' jobs, monthly income, level of education, etc. These aspects are important because they help to shape the behaviors that can possibly affect the health of any individual, and also help to control for the exposure to health hazards, which definitely have implications in the number of visits to health centers, and insurance expenditures."
   ]
  },
  {
   "cell_type": "markdown",
   "metadata": {},
   "source": [
    "## Annex I\n",
    "---\n",
    "\n",
    "Regressions results with the `sex` dummy (prediction of the train set):"
   ]
  },
  {
   "cell_type": "code",
   "execution_count": 88,
   "metadata": {},
   "outputs": [
    {
     "name": "stdout",
     "output_type": "stream",
     "text": [
      "summary =                   Results: Ordinary least squares\n",
      "===================================================================\n",
      "Model:              OLS              Adj. R-squared:     0.738     \n",
      "Dependent Variable: y                AIC:                21718.2028\n",
      "Date:               2023-04-04 15:41 BIC:                21743.0799\n",
      "No. Observations:   1070             Log-Likelihood:     -10854.   \n",
      "Df Model:           4                F-statistic:        752.9     \n",
      "Df Residuals:       1065             Prob (F-statistic): 1.50e-308 \n",
      "R-squared:          0.739            Scale:              3.8067e+07\n",
      "-------------------------------------------------------------------\n",
      "          Coef.     Std.Err.    t     P>|t|     [0.025     0.975]  \n",
      "-------------------------------------------------------------------\n",
      "const  -11459.6004 1069.6192 -10.7137 0.0000 -13558.4008 -9360.8000\n",
      "x1        259.7988   13.6654  19.0114 0.0000    232.9846   286.6131\n",
      "x2       -224.1687  379.3341  -0.5910 0.5547   -968.4958   520.1585\n",
      "x3        322.6375   31.1194  10.3677 0.0000    261.5751   383.6998\n",
      "x4      23641.8759  469.0682  50.4018 0.0000  22721.4732 24562.2787\n",
      "-------------------------------------------------------------------\n",
      "Omnibus:              223.628       Durbin-Watson:          2.077  \n",
      "Prob(Omnibus):        0.000         Jarque-Bera (JB):       463.506\n",
      "Skew:                 1.185         Prob(JB):               0.000  \n",
      "Kurtosis:             5.187         Condition No.:          293    \n",
      "===================================================================\n",
      "\n",
      "MSE = 37888679.71\n",
      "RMSE = 6155.38\n"
     ]
    }
   ],
   "source": [
    "feats_sex = ['age', 'sex', 'bmi', 'smoker']\n",
    "\n",
    "results_sex = reg_results(feats_sex, train, train)\n",
    "\n",
    "result_printer(results_sex)"
   ]
  }
 ],
 "metadata": {
  "hide_input": false,
  "kernelspec": {
   "display_name": "Python 3 (ipykernel)",
   "language": "python",
   "name": "python3"
  },
  "language_info": {
   "codemirror_mode": {
    "name": "ipython",
    "version": 3
   },
   "file_extension": ".py",
   "mimetype": "text/x-python",
   "name": "python",
   "nbconvert_exporter": "python",
   "pygments_lexer": "ipython3",
   "version": "3.9.2"
  },
  "varInspector": {
   "cols": {
    "lenName": 16,
    "lenType": 16,
    "lenVar": 40
   },
   "kernels_config": {
    "python": {
     "delete_cmd_postfix": "",
     "delete_cmd_prefix": "del ",
     "library": "var_list.py",
     "varRefreshCmd": "print(var_dic_list())"
    },
    "r": {
     "delete_cmd_postfix": ") ",
     "delete_cmd_prefix": "rm(",
     "library": "var_list.r",
     "varRefreshCmd": "cat(var_dic_list()) "
    }
   },
   "types_to_exclude": [
    "module",
    "function",
    "builtin_function_or_method",
    "instance",
    "_Feature"
   ],
   "window_display": false
  }
 },
 "nbformat": 4,
 "nbformat_minor": 4
}
