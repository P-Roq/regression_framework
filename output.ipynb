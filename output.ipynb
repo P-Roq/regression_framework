{
 "cells": [
  {
   "cell_type": "markdown",
   "metadata": {},
   "source": [
    "# Data sets for testing the program\n",
    "\n",
    "## 1. Predicting Medical Insurance Costs\n",
    "\n",
    "### Summary\n",
    "From a data set that compiles information on peoples' medical history we implement a linear regression model that attempts to predict the insurance costs of patients.\n",
    "\n",
    "\n",
    "**Data Set Description ([source](https://www.kaggle.com/datasets/mirichoi0218/insurance?resource=download))**\n",
    "\n",
    "- `age`: age of primary beneficiary\n",
    "- `sex`: insurance contractor gender, female, male\n",
    "- `bmi`: Body mass index, providing an understanding of body, weights that are relatively high or low relative to height,\n",
    "- `objective` index of body weight (kg / m ^ 2) using the ratio of height to weight, ideally 18.5 to 24.9\n",
    "- `children`: Number of children covered by health insurance / Number of dependents\n",
    "- `smoker`: Smoking\n",
    "- `region`: the beneficiary's residential area in the US, northeast, southeast, southwest, northwest.\n",
    "- `charges`: Individual medical costs billed by health insurance\n",
    "\n",
    "----------\n",
    "\n",
    "## 2. Predicting Real Estate Value In The Suburbs Of Boston\n",
    "\n",
    "### Summary\n",
    "Predict the price of real estate based on different characterizing factors.\n",
    "\n",
    "**Data Set Description ([source](https://search.r-project.org/CRAN/refmans/mlbench/html/BostonHousing.html))**\n",
    "\n",
    "\n",
    "- `CRIM` - per capita crime rate by town.\n",
    "- `ZN` - proportion of residential land zoned for lots over 25,000 sq.ft.\n",
    "- `INDUS` - proportion of non-retail business acres per town.\n",
    "- `CHAS` - Charles River dummy variable (= 1 if tract bounds river; 0 otherwise).\n",
    "- `NOX` - nitrogen oxides concentration (parts per 10 million).\n",
    "- `RM` - average number of rooms per dwelling.\n",
    "- `AGE` - proportion of owner-occupied units built prior to 1940.\n",
    "- `DIS` - weighted mean of distances to five Boston employment centres.\n",
    "- `RAD` - index of accessibility to radial highways.\n",
    "- `TAX` - full-value property-tax rate per $10,000.\n",
    "- `PTRATIO` - pupil-teacher ratio by town.\n",
    "- `LSTAT` - lower status of the population (percent).\n",
    "- `MEDV` - median value of owner-occupied homes in $1000s."
   ]
  },
  {
   "cell_type": "markdown",
   "metadata": {},
   "source": [
    "# Set autoreload to avoid restarting the jupyter kernel every time we change something\n",
    "# in the scripts and re-rerun the output.ipynb file. \n",
    "# Check if autoreload is present.\n",
    "if 'IPython.extensions.autoreload' not in get_ipython().extension_manager.loaded:\n",
    "    %load_ext autoreload\n",
    "    %autoreload 2\n",
    "else:\n",
    "    %autoreload 2\n",
    "\n",
    "from main import main \n",
    "\n",
    "main()"
   ]
  }
 ],
 "metadata": {
  "kernelspec": {
   "display_name": "Python 3",
   "language": "python",
   "name": "python3"
  },
  "language_info": {
   "name": "python",
   "version": "3.8.10"
  },
  "orig_nbformat": 4
 },
 "nbformat": 4,
 "nbformat_minor": 2
}
